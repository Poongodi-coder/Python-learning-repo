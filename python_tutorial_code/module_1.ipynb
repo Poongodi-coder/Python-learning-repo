{
 "cells": [
  {
   "cell_type": "code",
   "execution_count": 4,
   "id": "587f3182",
   "metadata": {},
   "outputs": [
    {
     "name": "stdout",
     "output_type": "stream",
     "text": [
      "7\n"
     ]
    }
   ],
   "source": [
    "x = 4\n",
    "y = 3\n",
    "z = x + y\n",
    "print(z)\n"
   ]
  },
  {
   "cell_type": "code",
   "execution_count": 5,
   "id": "b43402c1",
   "metadata": {},
   "outputs": [
    {
     "name": "stdout",
     "output_type": "stream",
     "text": [
      "4\n"
     ]
    }
   ],
   "source": [
    "i = 1\n",
    "j = 3\n",
    "print(i + j)"
   ]
  },
  {
   "cell_type": "code",
   "execution_count": 3,
   "id": "8cc9a546",
   "metadata": {},
   "outputs": [
    {
     "name": "stdout",
     "output_type": "stream",
     "text": [
      "54\n",
      "12.56\n"
     ]
    }
   ],
   "source": [
    "x= 6\n",
    "y = 9\n",
    "z = x* y\n",
    "print(z)\n",
    "\n",
    "Radius = 2\n",
    "Pi = 3.14\n",
    "area_of_circle = Pi * Radius ** 2\n",
    "\n",
    "print(area_of_circle)\n"
   ]
  },
  {
   "cell_type": "code",
   "execution_count": 5,
   "id": "0f66dd26",
   "metadata": {},
   "outputs": [
    {
     "name": "stdout",
     "output_type": "stream",
     "text": [
      "dog\n",
      "cat\n",
      "racoon\n"
     ]
    }
   ],
   "source": [
    "'''In this cell I've initialised a variable 'slice_this_phrase'.\n",
    "On the next three lines, print the words dog, cat, and racoon seprately\n",
    "using a slice from the beginning, a slice giving a range in the middle, and a slice from the end.\n",
    "This means one slice will involve [:n], one will involve [n1:n2], and one will involve [-n:].'''\n",
    " \n",
    "slice_this_phrase ='dog cat racoon'\n",
    "str1 = slice_this_phrase[:3]\n",
    "str2 = slice_this_phrase[4:7]\n",
    "str3 = slice_this_phrase[-6:]\n",
    "\n",
    "print(str1)\n",
    "print(str2)\n",
    "print(str3)\n"
   ]
  }
 ],
 "metadata": {
  "kernelspec": {
   "display_name": ".venv",
   "language": "python",
   "name": "python3"
  },
  "language_info": {
   "codemirror_mode": {
    "name": "ipython",
    "version": 3
   },
   "file_extension": ".py",
   "mimetype": "text/x-python",
   "name": "python",
   "nbconvert_exporter": "python",
   "pygments_lexer": "ipython3",
   "version": "3.12.3"
  }
 },
 "nbformat": 4,
 "nbformat_minor": 5
}
