{
 "cells": [
  {
   "cell_type": "code",
   "execution_count": null,
   "id": "e0ee929c",
   "metadata": {},
   "outputs": [],
   "source": [
    "print('hello Poongodi')"
   ]
  },
  {
   "cell_type": "code",
   "execution_count": null,
   "id": "062a6caa",
   "metadata": {},
   "outputs": [],
   "source": [
    "var_1 = 10 # integer\n",
    "var_2 = 10.10 # float\n",
    "var_3 = '10' # string\n",
    "\n",
    "print(type(var_1))"
   ]
  }
 ],
 "metadata": {
  "language_info": {
   "name": "python"
  }
 },
 "nbformat": 4,
 "nbformat_minor": 5
}
