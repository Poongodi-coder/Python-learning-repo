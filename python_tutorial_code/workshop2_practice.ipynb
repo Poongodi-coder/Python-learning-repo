{
 "cells": [
  {
   "cell_type": "code",
   "execution_count": null,
   "id": "e0ee929c",
   "metadata": {},
   "outputs": [],
   "source": [
    "print('hello Poongodi')"
   ]
  },
  {
   "cell_type": "code",
   "execution_count": 1,
   "id": "062a6caa",
   "metadata": {},
   "outputs": [
    {
     "name": "stdout",
     "output_type": "stream",
     "text": [
      "<class 'int'>\n"
     ]
    }
   ],
   "source": [
    "var_1 = 10 # integer\n",
    "var_2 = 10.10 # float\n",
    "var_3 = '10' # string\n",
    "\n",
    "print(type(var_1))"
   ]
  }
 ],
 "metadata": {
  "kernelspec": {
   "display_name": ".venv",
   "language": "python",
   "name": "python3"
  },
  "language_info": {
   "codemirror_mode": {
    "name": "ipython",
    "version": 3
   },
   "file_extension": ".py",
   "mimetype": "text/x-python",
   "name": "python",
   "nbconvert_exporter": "python",
   "pygments_lexer": "ipython3",
   "version": "3.12.3"
  }
 },
 "nbformat": 4,
 "nbformat_minor": 5
}
