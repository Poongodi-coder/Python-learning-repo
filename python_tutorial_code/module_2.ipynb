{
 "cells": [
  {
   "cell_type": "code",
   "execution_count": 1,
   "id": "71663630",
   "metadata": {},
   "outputs": [
    {
     "data": {
      "text/plain": [
       "'Spring'"
      ]
     },
     "execution_count": 1,
     "metadata": {},
     "output_type": "execute_result"
    }
   ],
   "source": [
    "''' Write a list which contains:\n",
    "a float, an integer, a string, and another list which itself contains strings\n",
    "use the square bracket notation to slice out and print the last string from the\n",
    "list inside the list (try and do it using a minus rather than a normal number)'''\n",
    "\n",
    "three_datatype = ['sam', 10, 20.2, ['summer', 'winter', 'Spring']]\n",
    "last_str = three_datatype[-1][-1]\n",
    "last_str"
   ]
  },
  {
   "cell_type": "code",
   "execution_count": null,
   "id": "28b715fe",
   "metadata": {},
   "outputs": [],
   "source": [
    "print('helloo')"
   ]
  },
  {
   "cell_type": "code",
   "execution_count": null,
   "id": "d803162c",
   "metadata": {},
   "outputs": [],
   "source": []
  },
  {
   "cell_type": "code",
   "execution_count": 2,
   "id": "2cf486b5",
   "metadata": {},
   "outputs": [
    {
     "name": "stdout",
     "output_type": "stream",
     "text": [
      "['pizza', 'burger', 'chips']\n"
     ]
    },
    {
     "data": {
      "text/plain": [
       "['jacket potato', 'fish and chips']"
      ]
     },
     "execution_count": 2,
     "metadata": {},
     "output_type": "execute_result"
    }
   ],
   "source": [
    "food_list1 = ['pizza', 'burger', 'chips']\n",
    "print(food_list1)\n",
    "food_list2 = ['jacket potato', 'fish and chips']\n",
    "food_list2"
   ]
  },
  {
   "cell_type": "code",
   "execution_count": null,
   "id": "462e6ba9",
   "metadata": {},
   "outputs": [
    {
     "ename": "NameError",
     "evalue": "name 'food_list2' is not defined",
     "output_type": "error",
     "traceback": [
      "\u001b[31m---------------------------------------------------------------------------\u001b[39m",
      "\u001b[31mNameError\u001b[39m                                 Traceback (most recent call last)",
      "\u001b[36mCell\u001b[39m\u001b[36m \u001b[39m\u001b[32mIn[1]\u001b[39m\u001b[32m, line 1\u001b[39m\n\u001b[32m----> \u001b[39m\u001b[32m1\u001b[39m \u001b[43mfood_list2\u001b[49m\n",
      "\u001b[31mNameError\u001b[39m: name 'food_list2' is not defined"
     ]
    }
   ],
   "source": [
    "\n"
   ]
  }
 ],
 "metadata": {
  "kernelspec": {
   "display_name": ".venv",
   "language": "python",
   "name": "python3"
  },
  "language_info": {
   "codemirror_mode": {
    "name": "ipython",
    "version": 3
   },
   "file_extension": ".py",
   "mimetype": "text/x-python",
   "name": "python",
   "nbconvert_exporter": "python",
   "pygments_lexer": "ipython3",
   "version": "3.12.3"
  }
 },
 "nbformat": 4,
 "nbformat_minor": 5
}
