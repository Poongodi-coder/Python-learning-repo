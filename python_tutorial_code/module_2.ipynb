{
 "cells": [
  {
   "cell_type": "code",
   "execution_count": 2,
   "id": "ce25f0bf",
   "metadata": {},
   "outputs": [
    {
     "name": "stdout",
     "output_type": "stream",
     "text": [
      "<class 'int'>\n"
     ]
    }
   ],
   "source": [
    "var_1 = 10 # integer\n",
    "var_2 = 10.10 # float\n",
    "var_3 = '10' # string\n",
    "\n",
    "print(type(var_1))"
   ]
  },
  {
   "cell_type": "code",
   "execution_count": 3,
   "id": "50a581f8",
   "metadata": {},
   "outputs": [
    {
     "name": "stdout",
     "output_type": "stream",
     "text": [
      "abcdefghi\n"
     ]
    }
   ],
   "source": [
    "alph = 'abcdefghi'\n",
    "print(alph[:])"
   ]
  },
  {
   "cell_type": "code",
   "execution_count": null,
   "id": "d803162c",
   "metadata": {},
   "outputs": [
    {
     "data": {
      "text/plain": [
       "list"
      ]
     },
     "execution_count": 4,
     "metadata": {},
     "output_type": "execute_result"
    }
   ],
   "source": [
    "# List\n",
    "list_1 = []\n",
    "type(list_1)\n",
    "\n"
   ]
  },
  {
   "cell_type": "code",
   "execution_count": 12,
   "id": "02b225c0",
   "metadata": {},
   "outputs": [
    {
     "name": "stdout",
     "output_type": "stream",
     "text": [
      "cols_1 ['red', 'green', ['blue', 'yellow']]\n",
      "cols_2 = cols_1.copy() ['red', 'green', ['blue', 'yellow']]\n",
      "cols_2.append('white') ['red', 'green', ['blue', 'yellow'], 'white']\n",
      "['red', 'green', ['blue', 'yellow']]\n"
     ]
    }
   ],
   "source": [
    "cols_1 = ['red', 'green', ['blue', 'yellow']]\n",
    "print('cols_1 ' + str(cols_1))\n",
    "\n",
    "cols_2 = cols_1.copy()\n",
    "print('cols_2 = cols_1.copy() ' + str(cols_2))\n",
    "\n",
    "cols_2.append('white')\n",
    "print(\"cols_2.append('white') \" + str(cols_2))\n",
    "print(cols_1)\n",
    "\n"
   ]
  }
 ],
 "metadata": {
  "kernelspec": {
   "display_name": ".venv",
   "language": "python",
   "name": "python3"
  },
  "language_info": {
   "codemirror_mode": {
    "name": "ipython",
    "version": 3
   },
   "file_extension": ".py",
   "mimetype": "text/x-python",
   "name": "python",
   "nbconvert_exporter": "python",
   "pygments_lexer": "ipython3",
   "version": "3.12.3"
  }
 },
 "nbformat": 4,
 "nbformat_minor": 5
}
